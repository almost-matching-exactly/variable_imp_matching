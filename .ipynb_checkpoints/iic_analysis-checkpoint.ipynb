{
 "cells": [
  {
   "cell_type": "code",
   "execution_count": 3,
   "id": "68421100-4776-40c8-aeb5-f59e5e89dc1f",
   "metadata": {},
   "outputs": [],
   "source": [
    "%load_ext lab_black\n",
    "import pandas as pd\n",
    "import numpy as np\n",
    "from src.linear_coef_matching import LCM"
   ]
  },
  {
   "cell_type": "code",
   "execution_count": 8,
   "id": "9b782d36-d0b1-464f-bbd4-4604b8d57e2d",
   "metadata": {},
   "outputs": [],
   "source": [
    "data = pd.read_csv(\"/Users/harshparikh/Documents/max_df_coarsen.csv\", index_col=0)"
   ]
  },
  {
   "cell_type": "code",
   "execution_count": 10,
   "id": "46554de1-2388-4d3d-a002-8cb376488cd0",
   "metadata": {},
   "outputs": [
    {
     "data": {
      "text/plain": [
       "(995, 90)"
      ]
     },
     "execution_count": 10,
     "metadata": {},
     "output_type": "execute_result"
    }
   ],
   "source": [
    "lcm = LCM(outcome='Y',treatment='T'"
   ]
  },
  {
   "cell_type": "code",
   "execution_count": null,
   "id": "aa7ba9f4-5620-4009-af98-950bf56e3042",
   "metadata": {},
   "outputs": [],
   "source": []
  }
 ],
 "metadata": {
  "kernelspec": {
   "display_name": "Python 3 (ipykernel)",
   "language": "python",
   "name": "python3"
  },
  "language_info": {
   "codemirror_mode": {
    "name": "ipython",
    "version": 3
   },
   "file_extension": ".py",
   "mimetype": "text/x-python",
   "name": "python",
   "nbconvert_exporter": "python",
   "pygments_lexer": "ipython3",
   "version": "3.9.7"
  }
 },
 "nbformat": 4,
 "nbformat_minor": 5
}
