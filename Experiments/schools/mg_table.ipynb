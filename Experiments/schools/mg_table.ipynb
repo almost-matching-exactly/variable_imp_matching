{
 "cells": [
  {
   "cell_type": "code",
   "execution_count": 125,
   "id": "c0e0424d",
   "metadata": {},
   "outputs": [],
   "source": [
    "from astropy.table import Table\n",
    "import numpy as np\n",
    "import pandas as pd"
   ]
  },
  {
   "cell_type": "code",
   "execution_count": 156,
   "id": "ea52f63c",
   "metadata": {},
   "outputs": [],
   "source": [
    "lcm = Table.read('Results/school_lcm_mg.tex').to_pandas().drop(columns=['col0'])\n",
    "lin_prog = Table.read('Results/school_linear_prog_mg.tex').to_pandas().drop(columns=['col0'])\n",
    "np_prog = Table.read('Results/school_ensemble_prog_mg.tex').to_pandas().drop(columns=['col0'])"
   ]
  },
  {
   "cell_type": "code",
   "execution_count": 157,
   "id": "96b71fb9",
   "metadata": {},
   "outputs": [],
   "source": [
    "def clean_table(table, method_name, include_query=False):\n",
    "    table['T'] = table['T'].fillna(0).astype(int)\n",
    "    for c in table.columns:\n",
    "        if np.array_equal(table.loc[:, c], table.loc[:, c].astype(int)):\n",
    "            table[c] = table[c].astype(int)\n",
    "    table = table[['T', 'XC', 'C1', 'C2', 'S3', 'X1', 'X3']]\n",
    "    table.iloc[:-1, -2:] = round(table.iloc[:-1, -2:], 2)\n",
    "    table.iloc[-1, -3:] = round(table.iloc[-1, -3:], 4)\n",
    "    table = table.astype(str)\n",
    "    table.iloc[-1, 0] = ''\n",
    "    table = table.T\n",
    "    if include_query:\n",
    "        query = table.iloc[:, [0]]\n",
    "        query.columns = ['Query unit']\n",
    "    table = table.iloc[:, 1:]\n",
    "    table.columns = ['LCM'] + ['' for i in range(table.shape[1]-1)]\n",
    "    if include_query:\n",
    "        return table, query\n",
    "    return table"
   ]
  },
  {
   "cell_type": "code",
   "execution_count": 158,
   "id": "c18d72a1",
   "metadata": {},
   "outputs": [],
   "source": [
    "lcm, query = clean_table(lcm, 'LCM', include_query=True)\n",
    "lpgm = clean_table(lin_prog, 'Linear PGM')\n",
    "npgm = clean_table(np_prog, 'Nonparametric PGM')"
   ]
  },
  {
   "cell_type": "code",
   "execution_count": 159,
   "id": "1d39a641",
   "metadata": {},
   "outputs": [],
   "source": [
    "total = query.join(lcm, lsuffix='').join(lpgm, lsuffix='_').join(npgm, lsuffix='__')\n",
    "total.columns = [c.replace('_', '') for c in total.columns]"
   ]
  },
  {
   "cell_type": "code",
   "execution_count": 161,
   "id": "398bc4f2",
   "metadata": {},
   "outputs": [],
   "source": [
    "total.to_latex('test.tex')"
   ]
  },
  {
   "cell_type": "code",
   "execution_count": 40,
   "id": "db397e2a",
   "metadata": {},
   "outputs": [
    {
     "name": "stdout",
     "output_type": "stream",
     "text": [
      "S3\n",
      "True\n",
      "C2\n",
      "True\n",
      "XC\n",
      "True\n",
      "X1\n",
      "False\n",
      "C1\n",
      "True\n",
      "X3\n",
      "False\n",
      "T\n",
      "True\n"
     ]
    }
   ],
   "source": []
  },
  {
   "cell_type": "code",
   "execution_count": null,
   "id": "8f1f6575",
   "metadata": {},
   "outputs": [],
   "source": []
  }
 ],
 "metadata": {
  "kernelspec": {
   "display_name": "Python 3 (ipykernel)",
   "language": "python",
   "name": "python3"
  },
  "language_info": {
   "codemirror_mode": {
    "name": "ipython",
    "version": 3
   },
   "file_extension": ".py",
   "mimetype": "text/x-python",
   "name": "python",
   "nbconvert_exporter": "python",
   "pygments_lexer": "ipython3",
   "version": "3.7.12"
  }
 },
 "nbformat": 4,
 "nbformat_minor": 5
}
