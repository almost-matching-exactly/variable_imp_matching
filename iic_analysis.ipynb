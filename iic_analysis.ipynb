{
 "cells": [
  {
   "cell_type": "code",
   "execution_count": 1,
   "id": "68421100-4776-40c8-aeb5-f59e5e89dc1f",
   "metadata": {},
   "outputs": [],
   "source": [
    "%load_ext lab_black\n",
    "import pandas as pd\n",
    "import numpy as np\n",
    "import sklearn.linear_model as lm\n",
    "import sklearn.ensemble as en\n",
    "import sklearn.tree as tree\n",
    "import matplotlib.pyplot as plt\n",
    "from src.linear_coef_matching import LCM\n",
    "from src.linear_coef_matching_mf import LCM_MF\n",
    "from sklearn.model_selection import train_test_split, KFold\n",
    "from sklearn.metrics import accuracy_score\n",
    "import warnings\n",
    "\n",
    "warnings.filterwarnings(\"ignore\")"
   ]
  },
  {
   "cell_type": "code",
   "execution_count": 2,
   "id": "9b782d36-d0b1-464f-bbd4-4604b8d57e2d",
   "metadata": {},
   "outputs": [],
   "source": [
    "data = pd.read_csv(\"/Users/harshparikh/Documents/max_df_coarsen.csv\", index_col=0)"
   ]
  },
  {
   "cell_type": "code",
   "execution_count": 3,
   "id": "95701259-cfbd-4a7c-be01-bc5161752df2",
   "metadata": {},
   "outputs": [
    {
     "data": {
      "text/html": [
       "<div>\n",
       "<style scoped>\n",
       "    .dataframe tbody tr th:only-of-type {\n",
       "        vertical-align: middle;\n",
       "    }\n",
       "\n",
       "    .dataframe tbody tr th {\n",
       "        vertical-align: top;\n",
       "    }\n",
       "\n",
       "    .dataframe thead th {\n",
       "        text-align: right;\n",
       "    }\n",
       "</style>\n",
       "<table border=\"1\" class=\"dataframe\">\n",
       "  <thead>\n",
       "    <tr style=\"text-align: right;\">\n",
       "      <th></th>\n",
       "      <th>Gender</th>\n",
       "      <th>Age</th>\n",
       "      <th>Marrital</th>\n",
       "      <th>iGCS-Total</th>\n",
       "      <th>iGCS = T?</th>\n",
       "      <th>Worst GCS in 1st 24h</th>\n",
       "      <th>Worst GCS intub</th>\n",
       "      <th>APACHE II 1st 24h</th>\n",
       "      <th>SBP highest (1st 24h)</th>\n",
       "      <th>SBP lowest (1st 24h)</th>\n",
       "      <th>...</th>\n",
       "      <th>phenobarbital_50</th>\n",
       "      <th>propofol_Hill</th>\n",
       "      <th>propofol_50</th>\n",
       "      <th>valproate_Hill</th>\n",
       "      <th>valproate_50</th>\n",
       "      <th>Y</th>\n",
       "      <th>T</th>\n",
       "      <th>Race_Asian</th>\n",
       "      <th>Race_Black or African American</th>\n",
       "      <th>Race_White or Caucasian</th>\n",
       "    </tr>\n",
       "  </thead>\n",
       "  <tbody>\n",
       "    <tr>\n",
       "      <th>sid3</th>\n",
       "      <td>1</td>\n",
       "      <td>45.91</td>\n",
       "      <td>1</td>\n",
       "      <td>8</td>\n",
       "      <td>0</td>\n",
       "      <td>8</td>\n",
       "      <td>0</td>\n",
       "      <td>15</td>\n",
       "      <td>148</td>\n",
       "      <td>139</td>\n",
       "      <td>...</td>\n",
       "      <td>31.258455</td>\n",
       "      <td>22.956908</td>\n",
       "      <td>28.551287</td>\n",
       "      <td>9.440983</td>\n",
       "      <td>50.069078</td>\n",
       "      <td>1</td>\n",
       "      <td>(0.88, 1)</td>\n",
       "      <td>0</td>\n",
       "      <td>0</td>\n",
       "      <td>1</td>\n",
       "    </tr>\n",
       "    <tr>\n",
       "      <th>sid4</th>\n",
       "      <td>1</td>\n",
       "      <td>53.99</td>\n",
       "      <td>1</td>\n",
       "      <td>4</td>\n",
       "      <td>0</td>\n",
       "      <td>3</td>\n",
       "      <td>1</td>\n",
       "      <td>29</td>\n",
       "      <td>170</td>\n",
       "      <td>50</td>\n",
       "      <td>...</td>\n",
       "      <td>31.258455</td>\n",
       "      <td>23.802689</td>\n",
       "      <td>34.336808</td>\n",
       "      <td>9.440983</td>\n",
       "      <td>50.069078</td>\n",
       "      <td>1</td>\n",
       "      <td>(0.88, 1)</td>\n",
       "      <td>0</td>\n",
       "      <td>0</td>\n",
       "      <td>1</td>\n",
       "    </tr>\n",
       "    <tr>\n",
       "      <th>sid5</th>\n",
       "      <td>1</td>\n",
       "      <td>23.08</td>\n",
       "      <td>0</td>\n",
       "      <td>6</td>\n",
       "      <td>1</td>\n",
       "      <td>3</td>\n",
       "      <td>1</td>\n",
       "      <td>22</td>\n",
       "      <td>126</td>\n",
       "      <td>96</td>\n",
       "      <td>...</td>\n",
       "      <td>31.258455</td>\n",
       "      <td>23.346894</td>\n",
       "      <td>33.508543</td>\n",
       "      <td>9.440983</td>\n",
       "      <td>50.069078</td>\n",
       "      <td>0</td>\n",
       "      <td>(0.12, 1)</td>\n",
       "      <td>0</td>\n",
       "      <td>0</td>\n",
       "      <td>1</td>\n",
       "    </tr>\n",
       "    <tr>\n",
       "      <th>sid7</th>\n",
       "      <td>1</td>\n",
       "      <td>32.11</td>\n",
       "      <td>1</td>\n",
       "      <td>3</td>\n",
       "      <td>1</td>\n",
       "      <td>3</td>\n",
       "      <td>1</td>\n",
       "      <td>16</td>\n",
       "      <td>133</td>\n",
       "      <td>112</td>\n",
       "      <td>...</td>\n",
       "      <td>31.258455</td>\n",
       "      <td>26.847907</td>\n",
       "      <td>29.452211</td>\n",
       "      <td>9.440983</td>\n",
       "      <td>50.069078</td>\n",
       "      <td>1</td>\n",
       "      <td>(0.88, 1)</td>\n",
       "      <td>0</td>\n",
       "      <td>0</td>\n",
       "      <td>0</td>\n",
       "    </tr>\n",
       "    <tr>\n",
       "      <th>sid8</th>\n",
       "      <td>0</td>\n",
       "      <td>67.24</td>\n",
       "      <td>0</td>\n",
       "      <td>12</td>\n",
       "      <td>0</td>\n",
       "      <td>11</td>\n",
       "      <td>0</td>\n",
       "      <td>14</td>\n",
       "      <td>200</td>\n",
       "      <td>147</td>\n",
       "      <td>...</td>\n",
       "      <td>31.258455</td>\n",
       "      <td>26.111897</td>\n",
       "      <td>34.910724</td>\n",
       "      <td>9.440983</td>\n",
       "      <td>50.069078</td>\n",
       "      <td>1</td>\n",
       "      <td>(0.88, 1)</td>\n",
       "      <td>0</td>\n",
       "      <td>0</td>\n",
       "      <td>0</td>\n",
       "    </tr>\n",
       "  </tbody>\n",
       "</table>\n",
       "<p>5 rows × 90 columns</p>\n",
       "</div>"
      ],
      "text/plain": [
       "      Gender    Age  Marrital  iGCS-Total  iGCS = T?  Worst GCS in 1st 24h  \\\n",
       "sid3       1  45.91         1           8          0                     8   \n",
       "sid4       1  53.99         1           4          0                     3   \n",
       "sid5       1  23.08         0           6          1                     3   \n",
       "sid7       1  32.11         1           3          1                     3   \n",
       "sid8       0  67.24         0          12          0                    11   \n",
       "\n",
       "      Worst GCS intub  APACHE II 1st 24h  SBP highest (1st 24h)  \\\n",
       "sid3                0                 15                    148   \n",
       "sid4                1                 29                    170   \n",
       "sid5                1                 22                    126   \n",
       "sid7                1                 16                    133   \n",
       "sid8                0                 14                    200   \n",
       "\n",
       "      SBP lowest (1st 24h)  ...  phenobarbital_50  propofol_Hill  propofol_50  \\\n",
       "sid3                   139  ...         31.258455      22.956908    28.551287   \n",
       "sid4                    50  ...         31.258455      23.802689    34.336808   \n",
       "sid5                    96  ...         31.258455      23.346894    33.508543   \n",
       "sid7                   112  ...         31.258455      26.847907    29.452211   \n",
       "sid8                   147  ...         31.258455      26.111897    34.910724   \n",
       "\n",
       "      valproate_Hill  valproate_50  Y          T  Race_Asian  \\\n",
       "sid3        9.440983     50.069078  1  (0.88, 1)           0   \n",
       "sid4        9.440983     50.069078  1  (0.88, 1)           0   \n",
       "sid5        9.440983     50.069078  0  (0.12, 1)           0   \n",
       "sid7        9.440983     50.069078  1  (0.88, 1)           0   \n",
       "sid8        9.440983     50.069078  1  (0.88, 1)           0   \n",
       "\n",
       "      Race_Black or African American  Race_White or Caucasian  \n",
       "sid3                               0                        1  \n",
       "sid4                               0                        1  \n",
       "sid5                               0                        1  \n",
       "sid7                               0                        0  \n",
       "sid8                               0                        0  \n",
       "\n",
       "[5 rows x 90 columns]"
      ]
     },
     "execution_count": 3,
     "metadata": {},
     "output_type": "execute_result"
    }
   ],
   "source": [
    "data.head()"
   ]
  },
  {
   "cell_type": "code",
   "execution_count": 9,
   "id": "48e1bae8-f269-4feb-9339-026cb0dcd28e",
   "metadata": {},
   "outputs": [],
   "source": [
    "lcm = LCM_MF(\n",
    "    outcome=\"Y\", treatment=\"T\", data=data, n_splits=3, n_repeats=3, random_state=0\n",
    ")"
   ]
  },
  {
   "cell_type": "code",
   "execution_count": 10,
   "id": "13a7c491-23ab-4ddd-9b13-035efe89c03e",
   "metadata": {},
   "outputs": [
    {
     "name": "stdout",
     "output_type": "stream",
     "text": [
      "{'(0.12, 0)': 0.8928571428571429, '(0.12, 1)': 0.7702702702702703, '(0.38, 0)': 0.8666666666666667, '(0.38, 1)': 0.8620689655172413, '(0.62, 0)': 1.0, '(0.62, 1)': 0.84, '(0.88, 0)': 0.8333333333333334, '(0.88, 1)': 0.908256880733945}\n",
      "{'(0.12, 0)': 0.8928571428571429, '(0.12, 1)': 0.9324324324324325, '(0.38, 0)': 0.8, '(0.38, 1)': 1.0, '(0.62, 0)': 1.0, '(0.62, 1)': 0.84, '(0.88, 0)': 0.926829268292683, '(0.88, 1)': 0.8990825688073395}\n",
      "{'(0.12, 0)': 0.8275862068965517, '(0.12, 1)': 0.8513513513513513, '(0.38, 0)': 1.0, '(0.38, 1)': 0.6785714285714286, '(0.62, 0)': 0.9090909090909091, '(0.62, 1)': 0.92, '(0.88, 0)': 0.8095238095238095, '(0.88, 1)': 0.8796296296296297}\n",
      "{'(0.12, 0)': 0.9642857142857143, '(0.12, 1)': 0.8783783783783784, '(0.38, 0)': 0.6666666666666666, '(0.38, 1)': 0.7931034482758621, '(0.62, 0)': 1.0, '(0.62, 1)': 0.96, '(0.88, 0)': 0.9523809523809523, '(0.88, 1)': 0.8899082568807339}\n",
      "{'(0.12, 0)': 0.9285714285714286, '(0.12, 1)': 0.8918918918918919, '(0.38, 0)': 0.8666666666666667, '(0.38, 1)': 0.8275862068965517, '(0.62, 0)': 0.9090909090909091, '(0.62, 1)': 0.8, '(0.88, 0)': 0.8048780487804879, '(0.88, 1)': 0.8715596330275229}\n",
      "{'(0.12, 0)': 0.6896551724137931, '(0.12, 1)': 0.8513513513513513, '(0.38, 0)': 1.0, '(0.38, 1)': 0.8571428571428571, '(0.62, 0)': 0.8181818181818182, '(0.62, 1)': 0.8, '(0.88, 0)': 0.7619047619047619, '(0.88, 1)': 0.8703703703703703}\n",
      "{'(0.12, 0)': 0.7142857142857143, '(0.12, 1)': 0.7972972972972973, '(0.38, 0)': 1.0, '(0.38, 1)': 0.8275862068965517, '(0.62, 0)': 1.0, '(0.62, 1)': 0.8, '(0.88, 0)': 0.8571428571428571, '(0.88, 1)': 0.8899082568807339}\n"
     ]
    },
    {
     "ename": "ValueError",
     "evalue": "This solver needs samples of at least 2 classes in the data, but the data contains only one class: 1",
     "output_type": "error",
     "traceback": [
      "\u001b[0;31m---------------------------------------------------------------------------\u001b[0m",
      "\u001b[0;31mValueError\u001b[0m                                Traceback (most recent call last)",
      "\u001b[0;32m/var/folders/g3/6sg5xtl52899d59vg4dbv4s80000gn/T/ipykernel_51618/3405226017.py\u001b[0m in \u001b[0;36m<module>\u001b[0;34m\u001b[0m\n\u001b[0;32m----> 1\u001b[0;31m \u001b[0mlcm\u001b[0m\u001b[0;34m.\u001b[0m\u001b[0mfit\u001b[0m\u001b[0;34m(\u001b[0m\u001b[0mmodel\u001b[0m\u001b[0;34m=\u001b[0m\u001b[0;34m'linear'\u001b[0m\u001b[0;34m,\u001b[0m \u001b[0mseparate_treatments\u001b[0m\u001b[0;34m=\u001b[0m\u001b[0;32mTrue\u001b[0m\u001b[0;34m)\u001b[0m\u001b[0;34m\u001b[0m\u001b[0;34m\u001b[0m\u001b[0m\n\u001b[0m",
      "\u001b[0;32m~/Documents/GitHub/linear_coef_matching/src/linear_coef_matching_mf.py\u001b[0m in \u001b[0;36mfit\u001b[0;34m(self, model, params, model_weight_attr, separate_treatments, equal_weights, metalearner)\u001b[0m\n\u001b[1;32m     41\u001b[0m                     \u001b[0mdata\u001b[0m\u001b[0;34m=\u001b[0m\u001b[0mdf_train\u001b[0m\u001b[0;34m,\u001b[0m \u001b[0mbinary_outcome\u001b[0m\u001b[0;34m=\u001b[0m\u001b[0mself\u001b[0m\u001b[0;34m.\u001b[0m\u001b[0mbinary_outcome\u001b[0m\u001b[0;34m,\u001b[0m\u001b[0;34m\u001b[0m\u001b[0;34m\u001b[0m\u001b[0m\n\u001b[1;32m     42\u001b[0m                     random_state=self.random_state)\n\u001b[0;32m---> 43\u001b[0;31m             scores = m.fit(model=model, params=params,\n\u001b[0m\u001b[1;32m     44\u001b[0m                            \u001b[0mmodel_weight_attr\u001b[0m\u001b[0;34m=\u001b[0m\u001b[0mmodel_weight_attr\u001b[0m\u001b[0;34m,\u001b[0m\u001b[0;34m\u001b[0m\u001b[0;34m\u001b[0m\u001b[0m\n\u001b[1;32m     45\u001b[0m                            \u001b[0mseparate_treatments\u001b[0m\u001b[0;34m=\u001b[0m\u001b[0mseparate_treatments\u001b[0m\u001b[0;34m,\u001b[0m\u001b[0;34m\u001b[0m\u001b[0;34m\u001b[0m\u001b[0m\n",
      "\u001b[0;32m~/Documents/GitHub/linear_coef_matching/src/linear_coef_matching.py\u001b[0m in \u001b[0;36mfit\u001b[0;34m(self, model, params, model_weight_attr, separate_treatments, equal_weights, metalearner, return_scores)\u001b[0m\n\u001b[1;32m     88\u001b[0m             \u001b[0mM\u001b[0m \u001b[0;34m=\u001b[0m \u001b[0;34m[\u001b[0m\u001b[0;34m]\u001b[0m\u001b[0;34m\u001b[0m\u001b[0;34m\u001b[0m\u001b[0m\n\u001b[1;32m     89\u001b[0m             \u001b[0;32mfor\u001b[0m \u001b[0mt\u001b[0m \u001b[0;32min\u001b[0m \u001b[0mself\u001b[0m\u001b[0;34m.\u001b[0m\u001b[0mtreatments_classes\u001b[0m\u001b[0;34m:\u001b[0m\u001b[0;34m\u001b[0m\u001b[0;34m\u001b[0m\u001b[0m\n\u001b[0;32m---> 90\u001b[0;31m                 \u001b[0mm\u001b[0m\u001b[0;34m.\u001b[0m\u001b[0mfit\u001b[0m\u001b[0;34m(\u001b[0m\u001b[0mself\u001b[0m\u001b[0;34m.\u001b[0m\u001b[0mX\u001b[0m\u001b[0;34m[\u001b[0m\u001b[0mself\u001b[0m\u001b[0;34m.\u001b[0m\u001b[0mT\u001b[0m \u001b[0;34m==\u001b[0m \u001b[0mt\u001b[0m\u001b[0;34m,\u001b[0m \u001b[0;34m:\u001b[0m\u001b[0;34m]\u001b[0m\u001b[0;34m,\u001b[0m \u001b[0mself\u001b[0m\u001b[0;34m.\u001b[0m\u001b[0mY\u001b[0m\u001b[0;34m[\u001b[0m\u001b[0mself\u001b[0m\u001b[0;34m.\u001b[0m\u001b[0mT\u001b[0m \u001b[0;34m==\u001b[0m \u001b[0mt\u001b[0m\u001b[0;34m]\u001b[0m\u001b[0;34m)\u001b[0m\u001b[0;34m\u001b[0m\u001b[0;34m\u001b[0m\u001b[0m\n\u001b[0m\u001b[1;32m     91\u001b[0m                 \u001b[0;32mif\u001b[0m \u001b[0mreturn_scores\u001b[0m\u001b[0;34m:\u001b[0m\u001b[0;34m\u001b[0m\u001b[0;34m\u001b[0m\u001b[0m\n\u001b[1;32m     92\u001b[0m                     scores[t] = m.score(self.X[self.T == t, :],\n",
      "\u001b[0;32m~/opt/anaconda3/lib/python3.9/site-packages/sklearn/linear_model/_logistic.py\u001b[0m in \u001b[0;36mfit\u001b[0;34m(self, X, y, sample_weight)\u001b[0m\n\u001b[1;32m   1851\u001b[0m \u001b[0;34m\u001b[0m\u001b[0m\n\u001b[1;32m   1852\u001b[0m         \u001b[0;32mif\u001b[0m \u001b[0mn_classes\u001b[0m \u001b[0;34m<\u001b[0m \u001b[0;36m2\u001b[0m\u001b[0;34m:\u001b[0m\u001b[0;34m\u001b[0m\u001b[0;34m\u001b[0m\u001b[0m\n\u001b[0;32m-> 1853\u001b[0;31m             raise ValueError(\"This solver needs samples of at least 2 classes\"\n\u001b[0m\u001b[1;32m   1854\u001b[0m                              \u001b[0;34m\" in the data, but the data contains only one\"\u001b[0m\u001b[0;34m\u001b[0m\u001b[0;34m\u001b[0m\u001b[0m\n\u001b[1;32m   1855\u001b[0m                              \" class: %r\" % classes[0])\n",
      "\u001b[0;31mValueError\u001b[0m: This solver needs samples of at least 2 classes in the data, but the data contains only one class: 1"
     ]
    }
   ],
   "source": [
    "lcm.fit(model='linear', separate_treatments=True)"
   ]
  },
  {
   "cell_type": "code",
   "execution_count": null,
   "id": "c4728457-ceef-456d-854b-a9e27263976c",
   "metadata": {},
   "outputs": [],
   "source": []
  },
  {
   "cell_type": "code",
   "execution_count": null,
   "id": "46554de1-2388-4d3d-a002-8cb376488cd0",
   "metadata": {},
   "outputs": [],
   "source": [
    "treatment_arms = np.unique(data[\"T\"])\n",
    "data_T = {}\n",
    "for T in treatment_arms:\n",
    "    data_T[T] = data.loc[data[\"T\"] == T]"
   ]
  },
  {
   "cell_type": "code",
   "execution_count": null,
   "id": "88c982e4-f079-4f75-9ec5-e196993fd50c",
   "metadata": {},
   "outputs": [],
   "source": [
    "treatment_arms"
   ]
  },
  {
   "cell_type": "code",
   "execution_count": null,
   "id": "f6ee8c79-49a9-4d9a-b5cd-f445d28ef9e7",
   "metadata": {},
   "outputs": [],
   "source": [
    "X_train, X_test, y_train, y_test = train_test_split(\n",
    "    data.drop(columns=[\"T\", \"Y\"]), data[\"Y\"], stratify=data[\"T\"]\n",
    ")"
   ]
  },
  {
   "cell_type": "code",
   "execution_count": null,
   "id": "2634918a-1270-4c55-a7fa-1041f5315e5e",
   "metadata": {},
   "outputs": [],
   "source": [
    "m = en.GradientBoostingClassifier().fit(X_train, y_train)"
   ]
  },
  {
   "cell_type": "code",
   "execution_count": null,
   "id": "2020fc42-6bb2-4bca-893f-e499c657de7e",
   "metadata": {},
   "outputs": [],
   "source": [
    "accuracy_score(y_test, m.predict(X_test))"
   ]
  },
  {
   "cell_type": "code",
   "execution_count": null,
   "id": "b6e03b62-db1c-4901-ad44-93dbcbfd18a0",
   "metadata": {},
   "outputs": [],
   "source": [
    "m.score(X_test, y_test)"
   ]
  },
  {
   "cell_type": "code",
   "execution_count": null,
   "id": "d2de7203-67ee-4221-9bbe-9d828aa3083e",
   "metadata": {},
   "outputs": [],
   "source": [
    "df_new = data.copy(deep=True)"
   ]
  },
  {
   "cell_type": "code",
   "execution_count": null,
   "id": "2d93e958-b308-4f04-a7a5-0ebaf66bdca8",
   "metadata": {},
   "outputs": [],
   "source": [
    "treatment_map = {\n",
    "    \"(0.12, 0)\": \"(0, 0)\",\n",
    "    \"(0.12, 1)\": \"(0, 1)\",\n",
    "    \"(0.38, 0)\": \"(0, 0)\",\n",
    "    \"(0.38, 1)\": \"(0, 1)\",\n",
    "    \"(0.62, 0)\": \"(1, 0)\",\n",
    "    \"(0.62, 1)\": \"(1, 1)\",\n",
    "    \"(0.88, 0)\": \"(1, 0)\",\n",
    "    \"(0.88, 1)\": \"(1, 1)\",\n",
    "}"
   ]
  },
  {
   "cell_type": "code",
   "execution_count": null,
   "id": "5719f157-fc9a-42a2-b93c-8eaf22b75ff9",
   "metadata": {},
   "outputs": [],
   "source": [
    "df_new[\"T\"] = df_new[\"T\"].apply(lambda x: treatment_map[x])"
   ]
  },
  {
   "cell_type": "code",
   "execution_count": null,
   "id": "85287a56-78a4-4354-b79c-dfe55a26c7d9",
   "metadata": {},
   "outputs": [],
   "source": [
    "df_new[\"T\"]"
   ]
  },
  {
   "cell_type": "code",
   "execution_count": null,
   "id": "b2a92c2c-f67b-4927-a8e3-b6b2bd293dfd",
   "metadata": {},
   "outputs": [],
   "source": [
    "df_new = df_new.loc[(df_new[\"T\"] == \"(0, 0)\") | (df_new[\"T\"] == \"(1, 0)\")]"
   ]
  },
  {
   "cell_type": "code",
   "execution_count": null,
   "id": "077bd631-1acd-4ecb-9798-bdd25c5b7ff4",
   "metadata": {},
   "outputs": [],
   "source": [
    "df_new[\"T\"] = df_new.apply(lambda x: int(x[\"T\"][1]), axis=1)"
   ]
  },
  {
   "cell_type": "code",
   "execution_count": null,
   "id": "5c08dd72-ec72-470b-b7c5-a7e046efda16",
   "metadata": {},
   "outputs": [],
   "source": [
    "lcm = LCM_MF(\"Y\", \"T\", data=df_new, n_splits=3, n_repeats=1)"
   ]
  },
  {
   "cell_type": "code",
   "execution_count": null,
   "id": "c894cc1c-c8e8-44e3-b1f0-40cbbbe4699c",
   "metadata": {},
   "outputs": [],
   "source": [
    "lcm.fit(method=\"linear\")"
   ]
  },
  {
   "cell_type": "code",
   "execution_count": null,
   "id": "772e5fab-3967-4b1b-bd91-8176c35b963c",
   "metadata": {},
   "outputs": [],
   "source": [
    "lcm.MG(k=5)"
   ]
  },
  {
   "cell_type": "code",
   "execution_count": null,
   "id": "e6383616-76ea-4931-96d1-d8fbad995cca",
   "metadata": {},
   "outputs": [],
   "source": [
    "lcm.CATE(cate_methods=[[\"mean\", False]])"
   ]
  },
  {
   "cell_type": "code",
   "execution_count": null,
   "id": "0e00bb01-57a4-45fb-9f58-3c635f424a39",
   "metadata": {},
   "outputs": [],
   "source": [
    "lcm.cate_df"
   ]
  },
  {
   "cell_type": "code",
   "execution_count": null,
   "id": "1af44365-ed05-4be8-abf1-3369dcebba53",
   "metadata": {},
   "outputs": [],
   "source": [
    "lcm.cate_df[\"avg.CATE_mean\"].hist()"
   ]
  },
  {
   "cell_type": "code",
   "execution_count": null,
   "id": "16c6bfdb-c405-4c85-ac91-4812881428ba",
   "metadata": {},
   "outputs": [],
   "source": []
  }
 ],
 "metadata": {
  "kernelspec": {
   "display_name": "Python 3 (ipykernel)",
   "language": "python",
   "name": "python3"
  },
  "language_info": {
   "codemirror_mode": {
    "name": "ipython",
    "version": 3
   },
   "file_extension": ".py",
   "mimetype": "text/x-python",
   "name": "python",
   "nbconvert_exporter": "python",
   "pygments_lexer": "ipython3",
   "version": "3.9.7"
  }
 },
 "nbformat": 4,
 "nbformat_minor": 5
}
