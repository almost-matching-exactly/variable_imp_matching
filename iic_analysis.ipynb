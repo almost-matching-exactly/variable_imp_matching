{
 "cells": [
  {
   "cell_type": "code",
   "execution_count": 1,
   "id": "68421100-4776-40c8-aeb5-f59e5e89dc1f",
   "metadata": {},
   "outputs": [],
   "source": [
    "%load_ext lab_black\n",
    "import pandas as pd\n",
    "import numpy as np\n",
    "import sklearn.linear_model as lm\n",
    "import sklearn.ensemble as en\n",
    "import sklearn.tree as tree\n",
    "import matplotlib.pyplot as plt\n",
    "from src.linear_coef_matching import LCM\n",
    "from src.linear_coef_matching_mf import LCM_MF\n",
    "from sklearn.model_selection import train_test_split, KFold\n",
    "from sklearn.metrics import accuracy_score\n",
    "import warnings\n",
    "import seaborn as sns\n",
    "\n",
    "warnings.filterwarnings(\"ignore\")"
   ]
  },
  {
   "cell_type": "code",
   "execution_count": 2,
   "id": "64147ccf-f023-41d8-adf3-fc80299b62bf",
   "metadata": {},
   "outputs": [
    {
     "data": {
      "text/html": [
       "<div>\n",
       "<style scoped>\n",
       "    .dataframe tbody tr th:only-of-type {\n",
       "        vertical-align: middle;\n",
       "    }\n",
       "\n",
       "    .dataframe tbody tr th {\n",
       "        vertical-align: top;\n",
       "    }\n",
       "\n",
       "    .dataframe thead th {\n",
       "        text-align: right;\n",
       "    }\n",
       "</style>\n",
       "<table border=\"1\" class=\"dataframe\">\n",
       "  <thead>\n",
       "    <tr style=\"text-align: right;\">\n",
       "      <th></th>\n",
       "      <th>Gender</th>\n",
       "      <th>Age</th>\n",
       "      <th>Marrital</th>\n",
       "      <th>iGCS-Total</th>\n",
       "      <th>iGCS = T?</th>\n",
       "      <th>Worst GCS in 1st 24h</th>\n",
       "      <th>Worst GCS intub</th>\n",
       "      <th>APACHE II 1st 24h</th>\n",
       "      <th>SBP highest (1st 24h)</th>\n",
       "      <th>SBP lowest (1st 24h)</th>\n",
       "      <th>...</th>\n",
       "      <th>phenobarbital_50</th>\n",
       "      <th>propofol_Hill</th>\n",
       "      <th>propofol_50</th>\n",
       "      <th>valproate_Hill</th>\n",
       "      <th>valproate_50</th>\n",
       "      <th>Y</th>\n",
       "      <th>T</th>\n",
       "      <th>Race_Asian</th>\n",
       "      <th>Race_Black or African American</th>\n",
       "      <th>Race_White or Caucasian</th>\n",
       "    </tr>\n",
       "  </thead>\n",
       "  <tbody>\n",
       "    <tr>\n",
       "      <th>sid3</th>\n",
       "      <td>1</td>\n",
       "      <td>45.91</td>\n",
       "      <td>1</td>\n",
       "      <td>8</td>\n",
       "      <td>0</td>\n",
       "      <td>8</td>\n",
       "      <td>0</td>\n",
       "      <td>15</td>\n",
       "      <td>148</td>\n",
       "      <td>139</td>\n",
       "      <td>...</td>\n",
       "      <td>31.258455</td>\n",
       "      <td>22.956908</td>\n",
       "      <td>28.551287</td>\n",
       "      <td>9.440983</td>\n",
       "      <td>50.069078</td>\n",
       "      <td>1</td>\n",
       "      <td>(0.88, 1)</td>\n",
       "      <td>0</td>\n",
       "      <td>0</td>\n",
       "      <td>1</td>\n",
       "    </tr>\n",
       "    <tr>\n",
       "      <th>sid4</th>\n",
       "      <td>1</td>\n",
       "      <td>53.99</td>\n",
       "      <td>1</td>\n",
       "      <td>4</td>\n",
       "      <td>0</td>\n",
       "      <td>3</td>\n",
       "      <td>1</td>\n",
       "      <td>29</td>\n",
       "      <td>170</td>\n",
       "      <td>50</td>\n",
       "      <td>...</td>\n",
       "      <td>31.258455</td>\n",
       "      <td>23.802689</td>\n",
       "      <td>34.336808</td>\n",
       "      <td>9.440983</td>\n",
       "      <td>50.069078</td>\n",
       "      <td>1</td>\n",
       "      <td>(0.88, 1)</td>\n",
       "      <td>0</td>\n",
       "      <td>0</td>\n",
       "      <td>1</td>\n",
       "    </tr>\n",
       "    <tr>\n",
       "      <th>sid5</th>\n",
       "      <td>1</td>\n",
       "      <td>23.08</td>\n",
       "      <td>0</td>\n",
       "      <td>6</td>\n",
       "      <td>1</td>\n",
       "      <td>3</td>\n",
       "      <td>1</td>\n",
       "      <td>22</td>\n",
       "      <td>126</td>\n",
       "      <td>96</td>\n",
       "      <td>...</td>\n",
       "      <td>31.258455</td>\n",
       "      <td>23.346894</td>\n",
       "      <td>33.508543</td>\n",
       "      <td>9.440983</td>\n",
       "      <td>50.069078</td>\n",
       "      <td>0</td>\n",
       "      <td>(0.12, 1)</td>\n",
       "      <td>0</td>\n",
       "      <td>0</td>\n",
       "      <td>1</td>\n",
       "    </tr>\n",
       "    <tr>\n",
       "      <th>sid7</th>\n",
       "      <td>1</td>\n",
       "      <td>32.11</td>\n",
       "      <td>1</td>\n",
       "      <td>3</td>\n",
       "      <td>1</td>\n",
       "      <td>3</td>\n",
       "      <td>1</td>\n",
       "      <td>16</td>\n",
       "      <td>133</td>\n",
       "      <td>112</td>\n",
       "      <td>...</td>\n",
       "      <td>31.258455</td>\n",
       "      <td>26.847907</td>\n",
       "      <td>29.452211</td>\n",
       "      <td>9.440983</td>\n",
       "      <td>50.069078</td>\n",
       "      <td>1</td>\n",
       "      <td>(0.88, 1)</td>\n",
       "      <td>0</td>\n",
       "      <td>0</td>\n",
       "      <td>0</td>\n",
       "    </tr>\n",
       "    <tr>\n",
       "      <th>sid8</th>\n",
       "      <td>0</td>\n",
       "      <td>67.24</td>\n",
       "      <td>0</td>\n",
       "      <td>12</td>\n",
       "      <td>0</td>\n",
       "      <td>11</td>\n",
       "      <td>0</td>\n",
       "      <td>14</td>\n",
       "      <td>200</td>\n",
       "      <td>147</td>\n",
       "      <td>...</td>\n",
       "      <td>31.258455</td>\n",
       "      <td>26.111897</td>\n",
       "      <td>34.910724</td>\n",
       "      <td>9.440983</td>\n",
       "      <td>50.069078</td>\n",
       "      <td>1</td>\n",
       "      <td>(0.88, 1)</td>\n",
       "      <td>0</td>\n",
       "      <td>0</td>\n",
       "      <td>0</td>\n",
       "    </tr>\n",
       "  </tbody>\n",
       "</table>\n",
       "<p>5 rows × 90 columns</p>\n",
       "</div>"
      ],
      "text/plain": [
       "      Gender    Age  Marrital  iGCS-Total  iGCS = T?  Worst GCS in 1st 24h  \\\n",
       "sid3       1  45.91         1           8          0                     8   \n",
       "sid4       1  53.99         1           4          0                     3   \n",
       "sid5       1  23.08         0           6          1                     3   \n",
       "sid7       1  32.11         1           3          1                     3   \n",
       "sid8       0  67.24         0          12          0                    11   \n",
       "\n",
       "      Worst GCS intub  APACHE II 1st 24h  SBP highest (1st 24h)  \\\n",
       "sid3                0                 15                    148   \n",
       "sid4                1                 29                    170   \n",
       "sid5                1                 22                    126   \n",
       "sid7                1                 16                    133   \n",
       "sid8                0                 14                    200   \n",
       "\n",
       "      SBP lowest (1st 24h)  ...  phenobarbital_50  propofol_Hill  propofol_50  \\\n",
       "sid3                   139  ...         31.258455      22.956908    28.551287   \n",
       "sid4                    50  ...         31.258455      23.802689    34.336808   \n",
       "sid5                    96  ...         31.258455      23.346894    33.508543   \n",
       "sid7                   112  ...         31.258455      26.847907    29.452211   \n",
       "sid8                   147  ...         31.258455      26.111897    34.910724   \n",
       "\n",
       "      valproate_Hill  valproate_50  Y          T  Race_Asian  \\\n",
       "sid3        9.440983     50.069078  1  (0.88, 1)           0   \n",
       "sid4        9.440983     50.069078  1  (0.88, 1)           0   \n",
       "sid5        9.440983     50.069078  0  (0.12, 1)           0   \n",
       "sid7        9.440983     50.069078  1  (0.88, 1)           0   \n",
       "sid8        9.440983     50.069078  1  (0.88, 1)           0   \n",
       "\n",
       "      Race_Black or African American  Race_White or Caucasian  \n",
       "sid3                               0                        1  \n",
       "sid4                               0                        1  \n",
       "sid5                               0                        1  \n",
       "sid7                               0                        0  \n",
       "sid8                               0                        0  \n",
       "\n",
       "[5 rows x 90 columns]"
      ]
     },
     "execution_count": 2,
     "metadata": {},
     "output_type": "execute_result"
    }
   ],
   "source": [
    "data = pd.read_csv(\"/Users/harshparikh/Documents/max_df_coarsen.csv\", index_col=0)\n",
    "\n",
    "data.head()"
   ]
  },
  {
   "cell_type": "code",
   "execution_count": 141,
   "id": "32a57e62-f0a6-460b-81b6-c6eaf82d092b",
   "metadata": {
    "tags": []
   },
   "outputs": [
    {
     "name": "stdout",
     "output_type": "stream",
     "text": [
      "{'(0.12, 0)': 0.8928571428571429, '(0.12, 1)': 0.7702702702702703, '(0.38, 0)': 0.8666666666666667, '(0.38, 1)': 0.8620689655172413, '(0.62, 0)': 1.0, '(0.62, 1)': 0.84, '(0.88, 0)': 0.8333333333333334, '(0.88, 1)': 0.908256880733945}\n",
      "{'(0.12, 0)': 0.8928571428571429, '(0.12, 1)': 0.9324324324324325, '(0.38, 0)': 0.8, '(0.38, 1)': 1.0, '(0.62, 0)': 1.0, '(0.62, 1)': 0.84, '(0.88, 0)': 0.926829268292683, '(0.88, 1)': 0.8990825688073395}\n",
      "{'(0.12, 0)': 0.8275862068965517, '(0.12, 1)': 0.8513513513513513, '(0.38, 0)': 1.0, '(0.38, 1)': 0.6785714285714286, '(0.62, 0)': 0.9090909090909091, '(0.62, 1)': 0.92, '(0.88, 0)': 0.8095238095238095, '(0.88, 1)': 0.8796296296296297}\n",
      "{'(0.12, 0)': 0.9642857142857143, '(0.12, 1)': 0.8783783783783784, '(0.38, 0)': 0.6666666666666666, '(0.38, 1)': 0.7931034482758621, '(0.62, 0)': 1.0, '(0.62, 1)': 0.96, '(0.88, 0)': 0.9523809523809523, '(0.88, 1)': 0.8899082568807339}\n",
      "{'(0.12, 0)': 0.9285714285714286, '(0.12, 1)': 0.8918918918918919, '(0.38, 0)': 0.8666666666666667, '(0.38, 1)': 0.8275862068965517, '(0.62, 0)': 0.9090909090909091, '(0.62, 1)': 0.8, '(0.88, 0)': 0.8048780487804879, '(0.88, 1)': 0.8715596330275229}\n",
      "{'(0.12, 0)': 0.6896551724137931, '(0.12, 1)': 0.8513513513513513, '(0.38, 0)': 1.0, '(0.38, 1)': 0.8571428571428571, '(0.62, 0)': 0.8181818181818182, '(0.62, 1)': 0.8, '(0.88, 0)': 0.7619047619047619, '(0.88, 1)': 0.8703703703703703}\n",
      "{'(0.12, 0)': 0.7142857142857143, '(0.12, 1)': 0.7972972972972973, '(0.38, 0)': 1.0, '(0.38, 1)': 0.8275862068965517, '(0.62, 0)': 1.0, '(0.62, 1)': 0.8, '(0.88, 0)': 0.8571428571428571, '(0.88, 1)': 0.8899082568807339}\n",
      "{'(0.12, 0)': 0.6785714285714286, '(0.12, 1)': 0.8513513513513513, '(0.38, 0)': 0.8666666666666667, '(0.38, 1)': 0.9310344827586207, '(0.62, 0)': 1.0, '(0.62, 1)': 0, '(0.88, 0)': 0.9512195121951219, '(0.88, 1)': 0.908256880733945}\n",
      "{'(0.12, 0)': 0.8275862068965517, '(0.12, 1)': 0.8243243243243243, '(0.38, 0)': 0.5714285714285714, '(0.38, 1)': 0.8928571428571429, '(0.62, 0)': 0.7272727272727273, '(0.62, 1)': 0.76, '(0.88, 0)': 0.8095238095238095, '(0.88, 1)': 0.8888888888888888}\n",
      "{'(0.12, 0)': 0.9285714285714286, '(0.12, 1)': 0.7702702702702703, '(0.38, 0)': 0.9333333333333333, '(0.38, 1)': 0.7586206896551724, '(0.62, 0)': 0.6, '(0.62, 1)': 0.92, '(0.88, 0)': 0.9047619047619048, '(0.88, 1)': 0.926605504587156}\n",
      "{'(0.12, 0)': 0.9642857142857143, '(0.12, 1)': 0.7567567567567568, '(0.38, 0)': 0.6, '(0.38, 1)': 0.7931034482758621, '(0.62, 0)': 0.7272727272727273, '(0.62, 1)': 0.84, '(0.88, 0)': 0.9024390243902439, '(0.88, 1)': 0.8715596330275229}\n",
      "{'(0.12, 0)': 0.7931034482758621, '(0.12, 1)': 0.8513513513513513, '(0.38, 0)': 1.0, '(0.38, 1)': 0.8214285714285714, '(0.62, 0)': 1.0, '(0.62, 1)': 0.8, '(0.88, 0)': 0.8095238095238095, '(0.88, 1)': 0.8888888888888888}\n",
      "{'(0.12, 0)': 0.6071428571428571, '(0.12, 1)': 0.8513513513513513, '(0.38, 0)': 0.8666666666666667, '(0.38, 1)': 0.8620689655172413, '(0.62, 0)': 0.6, '(0.62, 1)': 0.84, '(0.88, 0)': 0.8571428571428571, '(0.88, 1)': 0.926605504587156}\n",
      "{'(0.12, 0)': 0.7857142857142857, '(0.12, 1)': 0.8243243243243243, '(0.38, 0)': 0.7333333333333333, '(0.38, 1)': 0.7931034482758621, '(0.62, 0)': 1.0, '(0.62, 1)': 0.8, '(0.88, 0)': 0.9512195121951219, '(0.88, 1)': 0.8990825688073395}\n",
      "{'(0.12, 0)': 1.0, '(0.12, 1)': 0.7027027027027027, '(0.38, 0)': 1.0, '(0.38, 1)': 0.7142857142857143, '(0.62, 0)': 1.0, '(0.62, 1)': 0.92, '(0.88, 0)': 0.8571428571428571, '(0.88, 1)': 0.8611111111111112}\n",
      "{'(0.12, 0)': 0.6428571428571429, '(0.12, 1)': 0.7567567567567568, '(0.38, 0)': 0.8, '(0.38, 1)': 0.8275862068965517, '(0.62, 0)': 1.0, '(0.62, 1)': 0.76, '(0.88, 0)': 0.9761904761904762, '(0.88, 1)': 0.8348623853211009}\n",
      "{'(0.12, 0)': 0.8571428571428571, '(0.12, 1)': 0.7297297297297297, '(0.38, 0)': 0.6, '(0.38, 1)': 0.7586206896551724, '(0.62, 0)': 0.7272727272727273, '(0.62, 1)': 0.92, '(0.88, 0)': 0.926829268292683, '(0.88, 1)': 0.9174311926605505}\n",
      "{'(0.12, 0)': 0.7931034482758621, '(0.12, 1)': 0.7702702702702703, '(0.38, 0)': 0.7857142857142857, '(0.38, 1)': 0.8928571428571429, '(0.62, 0)': 0.7272727272727273, '(0.62, 1)': 0.88, '(0.88, 0)': 0.8095238095238095, '(0.88, 1)': 0.9444444444444444}\n",
      "{'(0.12, 0)': 1.0, '(0.12, 1)': 0.7567567567567568, '(0.38, 0)': 0.4666666666666667, '(0.38, 1)': 0.7931034482758621, '(0.62, 0)': 1.0, '(0.62, 1)': 0.84, '(0.88, 0)': 0.9761904761904762, '(0.88, 1)': 0.8807339449541285}\n",
      "{'(0.12, 0)': 0.9642857142857143, '(0.12, 1)': 0.8918918918918919, '(0.38, 0)': 0.8, '(0.38, 1)': 0.7586206896551724, '(0.62, 0)': 0.8181818181818182, '(0.62, 1)': 0.88, '(0.88, 0)': 0.8780487804878049, '(0.88, 1)': 0.8623853211009175}\n",
      "{'(0.12, 0)': 0.6896551724137931, '(0.12, 1)': 0.6756756756756757, '(0.38, 0)': 0.8571428571428571, '(0.38, 1)': 0.8214285714285714, '(0.62, 0)': 0.6363636363636364, '(0.62, 1)': 0.84, '(0.88, 0)': 0.9761904761904762, '(0.88, 1)': 0.8888888888888888}\n",
      "{'(0.12, 0)': 0.6785714285714286, '(0.12, 1)': 0.7567567567567568, '(0.38, 0)': 0.7333333333333333, '(0.38, 1)': 0.7586206896551724, '(0.62, 0)': 0.7, '(0.62, 1)': 0.88, '(0.88, 0)': 0.9047619047619048, '(0.88, 1)': 0.8715596330275229}\n",
      "{'(0.12, 0)': 0.7857142857142857, '(0.12, 1)': 0.8243243243243243, '(0.38, 0)': 0.7333333333333333, '(0.38, 1)': 0.7931034482758621, '(0.62, 0)': 0.7272727272727273, '(0.62, 1)': 0.88, '(0.88, 0)': 0.9024390243902439, '(0.88, 1)': 0.926605504587156}\n",
      "{'(0.12, 0)': 0.9310344827586207, '(0.12, 1)': 0.8378378378378378, '(0.38, 0)': 0.9285714285714286, '(0.38, 1)': 0.8214285714285714, '(0.62, 0)': 1.0, '(0.62, 1)': 0.8, '(0.88, 0)': 0.7857142857142857, '(0.88, 1)': 0.8425925925925926}\n",
      "{'(0.12, 0)': 0.9285714285714286, '(0.12, 1)': 0.8108108108108109, '(0.38, 0)': 0.6, '(0.38, 1)': 0.7241379310344828, '(0.62, 0)': 1.0, '(0.62, 1)': 0.92, '(0.88, 0)': 0.9523809523809523, '(0.88, 1)': 0.963302752293578}\n",
      "{'(0.12, 0)': 0.8571428571428571, '(0.12, 1)': 0.7972972972972973, '(0.38, 0)': 1.0, '(0.38, 1)': 0.7586206896551724, '(0.62, 0)': 0.8181818181818182, '(0.62, 1)': 0.84, '(0.88, 0)': 0.7804878048780488, '(0.88, 1)': 0.8807339449541285}\n",
      "{'(0.12, 0)': 0.8620689655172413, '(0.12, 1)': 0.7702702702702703, '(0.38, 0)': 0.7142857142857143, '(0.38, 1)': 0.8928571428571429, '(0.62, 0)': 0.8181818181818182, '(0.62, 1)': 0.8, '(0.88, 0)': 0.8095238095238095, '(0.88, 1)': 0.9166666666666666}\n",
      "{'(0.12, 0)': 0.7142857142857143, '(0.12, 1)': 0.9324324324324325, '(0.38, 0)': 0.8, '(0.38, 1)': 0.8275862068965517, '(0.62, 0)': 0.9, '(0.62, 1)': 0.96, '(0.88, 0)': 0.9523809523809523, '(0.88, 1)': 0.8990825688073395}\n",
      "{'(0.12, 0)': 1.0, '(0.12, 1)': 0.8243243243243243, '(0.38, 0)': 0.8, '(0.38, 1)': 0.7241379310344828, '(0.62, 0)': 0.8181818181818182, '(0.62, 1)': 0.8, '(0.88, 0)': 0.8536585365853658, '(0.88, 1)': 0.8899082568807339}\n",
      "{'(0.12, 0)': 0.6551724137931034, '(0.12, 1)': 0.7972972972972973, '(0.38, 0)': 0.5714285714285714, '(0.38, 1)': 0.8214285714285714, '(0.62, 0)': 0.8181818181818182, '(0.62, 1)': 0.8, '(0.88, 0)': 0.9761904761904762, '(0.88, 1)': 0.8425925925925926}\n"
     ]
    }
   ],
   "source": [
    "lcm = LCM_MF(\n",
    "    outcome=\"Y\", treatment=\"T\", data=data, n_splits=3, n_repeats=10, random_state=0\n",
    ")\n",
    "\n",
    "lcm.fit(model=\"linear\", separate_treatments=True)"
   ]
  },
  {
   "cell_type": "code",
   "execution_count": 142,
   "id": "3e32606d-dd5a-4f37-94ae-0d80f8fe0ee5",
   "metadata": {},
   "outputs": [],
   "source": [
    "M_df = pd.concat(\n",
    "    [pd.DataFrame(lcm.M_list[i], index=lcm.covariates) for i in range(len(lcm.M_list))],\n",
    "    axis=1,\n",
    ")\n",
    "M_df.mean(axis=1).sort_values(ascending=False).to_latex(\"stretches_iic.tex\")"
   ]
  },
  {
   "cell_type": "code",
   "execution_count": 166,
   "id": "3e902ac1-c8d0-4ce3-8788-6ea3723ad528",
   "metadata": {},
   "outputs": [
    {
     "data": {
      "text/plain": [
       "Index(['APACHE II 1st 24h', 'Age', 'EEG day1 GCS', 'EEG day1 sysBP',\n",
       "       'HR lowest (1st 24h)'],\n",
       "      dtype='object')"
      ]
     },
     "execution_count": 166,
     "metadata": {},
     "output_type": "execute_result"
    }
   ],
   "source": [
    "M_df.mean(axis=1).sort_values(ascending=False).index[:5]"
   ]
  },
  {
   "cell_type": "code",
   "execution_count": 144,
   "id": "c4728457-ceef-456d-854b-a9e27263976c",
   "metadata": {
    "tags": []
   },
   "outputs": [],
   "source": [
    "lcm.MG(k=1)\n",
    "lcm.CATE(cate_methods=[\"mean\"], diameter_prune=-1)"
   ]
  },
  {
   "cell_type": "code",
   "execution_count": 215,
   "id": "bd4117e2-13cb-44a2-be1e-c83e982f33ff",
   "metadata": {},
   "outputs": [
    {
     "data": {
      "image/png": "[encoded data removed]",
      "text/plain": [
       "<Figure size 720x576 with 1 Axes>"
      ]
     },
     "metadata": {},
     "output_type": "display_data"
    }
   ],
   "source": [
    "sns.set(font_scale=2)\n",
    "sns.set_style(\"whitegrid\")\n",
    "fig, ax = plt.subplots(figsize=(10, 8))\n",
    "sns.pointplot(\n",
    "    data=lcm.cate_df[\n",
    "        [\"Y(0.12, 0)_mean\", \"Y(0.38, 0)_mean\", \"Y(0.62, 0)_mean\", \"Y(0.88, 0)_mean\"]\n",
    "    ]\n",
    "    .rename(\n",
    "        columns={\n",
    "            \"Y(0.12, 0)_mean\": \"[0.0%, 25%)\",\n",
    "            \"Y(0.38, 0)_mean\": \"[25% ,50%)\",\n",
    "            \"Y(0.62, 0)_mean\": \"[50%,75%)\",\n",
    "            \"Y(0.88, 0)_mean\": \"[75%,100%]\",\n",
    "        }\n",
    "    )\n",
    "    .T.reset_index()\n",
    "    .groupby(by=\"index\")\n",
    "    .mean()\n",
    "    .T,\n",
    "    join=False,\n",
    "    capsize=0.4,\n",
    ")\n",
    "# ax.set_xticks(ticks=[0,1,2,3], labels=['[0.0,0.25)','[0.25,0.5)','[0.5,0.75)','[0.75,1.0]'])\n",
    "plt.xlabel(\"Maximum Avg. Seizure Burden in a 6hr window\")\n",
    "plt.savefig(\"ATE_IIC.png\")"
   ]
  },
  {
   "cell_type": "code",
   "execution_count": 146,
   "id": "c96b4888-8207-4179-9f5f-fefaf318c158",
   "metadata": {
    "tags": []
   },
   "outputs": [],
   "source": [
    "lcm.MG(k=1)"
   ]
  },
  {
   "cell_type": "code",
   "execution_count": 147,
   "id": "93b6253a-8c6d-4f46-9147-69bb072b3c00",
   "metadata": {},
   "outputs": [],
   "source": [
    "cates = (\n",
    "    lcm.cate_df[\n",
    "        [\"Y(0.12, 0)_mean\", \"Y(0.38, 0)_mean\", \"Y(0.62, 0)_mean\", \"Y(0.88, 0)_mean\"]\n",
    "    ]\n",
    "    .T.reset_index()\n",
    "    .groupby(\"index\")\n",
    "    .mean()\n",
    "    .T\n",
    ")"
   ]
  },
  {
   "cell_type": "code",
   "execution_count": 148,
   "id": "755b2feb-9a10-4751-af34-a47b4adce6a2",
   "metadata": {},
   "outputs": [],
   "source": [
    "cates[\"patient_id\"] = data.index"
   ]
  },
  {
   "cell_type": "code",
   "execution_count": 149,
   "id": "3a3dbea4-3ca5-43e2-805f-3d4006ccca2c",
   "metadata": {},
   "outputs": [],
   "source": [
    "l_mg = lcm.get_MGs()"
   ]
  },
  {
   "cell_type": "code",
   "execution_count": 181,
   "id": "3f3e724f-bd91-430c-8069-21e788cb7fab",
   "metadata": {},
   "outputs": [],
   "source": [
    "a = []\n",
    "for d_itr in l_mg:\n",
    "    for key in d_itr.keys():\n",
    "        mg_key = d_itr[key]\n",
    "        if 314 in mg_key.index:\n",
    "            a.append(mg_key.loc[314][0])"
   ]
  },
  {
   "cell_type": "code",
   "execution_count": 182,
   "id": "f599568d-b1f1-4cd2-9461-e8ae7a08a345",
   "metadata": {},
   "outputs": [],
   "source": [
    "MG_sid603 = data.loc[list(cates.loc[set(a)][\"patient_id\"])]"
   ]
  },
  {
   "cell_type": "code",
   "execution_count": 183,
   "id": "5b6cec88-3d9a-41cc-bbf4-bbfadd53ab37",
   "metadata": {},
   "outputs": [],
   "source": [
    "malts_mg = set(\n",
    "    [\"sid152\", \"sid260\", \"sid489\", \"sid917\", \"sid1021\", \"sid1766\", \"sid1771\"]\n",
    ")\n",
    "lcm_mg = set(MG_sid603.index)"
   ]
  },
  {
   "cell_type": "code",
   "execution_count": 184,
   "id": "7cd6a68a-7795-4e4d-9dbe-5e95f7749a62",
   "metadata": {},
   "outputs": [
    {
     "data": {
      "text/plain": [
       "{'sid1021', 'sid152', 'sid1766', 'sid260'}"
      ]
     },
     "execution_count": 184,
     "metadata": {},
     "output_type": "execute_result"
    }
   ],
   "source": [
    "malts_mg.intersection(lcm_mg)"
   ]
  },
  {
   "cell_type": "code",
   "execution_count": 193,
   "id": "7eaf8b3a-2af8-4f42-8c6d-0b4f681dfea9",
   "metadata": {},
   "outputs": [],
   "source": [
    "MG_sid603.loc[\n",
    "    MG_sid603.apply(\n",
    "        lambda x: ((x[\"Age\"] > 45) and (x[\"Age\"] < 55) and (\"1)\" not in x[\"T\"])),\n",
    "        axis=1,\n",
    "    )\n",
    "][M_df.mean(axis=1).sort_values(ascending=False).index[:7]].round(0).astype(\n",
    "    int\n",
    ").to_latex(\n",
    "    \"sid603_mg.tex\"\n",
    ")"
   ]
  },
  {
   "cell_type": "code",
   "execution_count": null,
   "id": "55926f88-893d-4201-8e97-6dd0057c2926",
   "metadata": {},
   "outputs": [],
   "source": []
  }
 ],
 "metadata": {
  "kernelspec": {
   "display_name": "Python 3 (ipykernel)",
   "language": "python",
   "name": "python3"
  },
  "language_info": {
   "codemirror_mode": {
    "name": "ipython",
    "version": 3
   },
   "file_extension": ".py",
   "mimetype": "text/x-python",
   "name": "python",
   "nbconvert_exporter": "python",
   "pygments_lexer": "ipython3",
   "version": "3.9.7"
  }
 },
 "nbformat": 4,
 "nbformat_minor": 5
}
