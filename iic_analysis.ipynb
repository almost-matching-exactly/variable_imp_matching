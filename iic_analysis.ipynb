{
 "cells": [
  {
   "cell_type": "code",
   "execution_count": 26,
   "id": "68421100-4776-40c8-aeb5-f59e5e89dc1f",
   "metadata": {},
   "outputs": [
    {
     "name": "stdout",
     "output_type": "stream",
     "text": [
      "The lab_black extension is already loaded. To reload it, use:\n",
      "  %reload_ext lab_black\n"
     ]
    }
   ],
   "source": [
    "%load_ext lab_black\n",
    "import pandas as pd\n",
    "import numpy as np\n",
    "import sklearn.linear_model as lm\n",
    "import sklearn.ensemble as en\n",
    "import sklearn.tree as tree\n",
    "import matplotlib.pyplot as plt\n",
    "from src.linear_coef_matching import LCM\n",
    "from src.linear_coef_matching_mf import LCM_MF\n",
    "from sklearn.model_selection import train_test_split, KFold\n",
    "from sklearn.metrics import accuracy_score\n",
    "import warnings\n",
    "import seaborn as sns\n",
    "\n",
    "warnings.filterwarnings(\"ignore\")"
   ]
  },
  {
   "cell_type": "code",
   "execution_count": 2,
   "id": "64147ccf-f023-41d8-adf3-fc80299b62bf",
   "metadata": {},
   "outputs": [
    {
     "data": {
      "text/html": [
       "<div>\n",
       "<style scoped>\n",
       "    .dataframe tbody tr th:only-of-type {\n",
       "        vertical-align: middle;\n",
       "    }\n",
       "\n",
       "    .dataframe tbody tr th {\n",
       "        vertical-align: top;\n",
       "    }\n",
       "\n",
       "    .dataframe thead th {\n",
       "        text-align: right;\n",
       "    }\n",
       "</style>\n",
       "<table border=\"1\" class=\"dataframe\">\n",
       "  <thead>\n",
       "    <tr style=\"text-align: right;\">\n",
       "      <th></th>\n",
       "      <th>Gender</th>\n",
       "      <th>Age</th>\n",
       "      <th>Marrital</th>\n",
       "      <th>iGCS-Total</th>\n",
       "      <th>iGCS = T?</th>\n",
       "      <th>Worst GCS in 1st 24h</th>\n",
       "      <th>Worst GCS intub</th>\n",
       "      <th>APACHE II 1st 24h</th>\n",
       "      <th>SBP highest (1st 24h)</th>\n",
       "      <th>SBP lowest (1st 24h)</th>\n",
       "      <th>...</th>\n",
       "      <th>phenobarbital_50</th>\n",
       "      <th>propofol_Hill</th>\n",
       "      <th>propofol_50</th>\n",
       "      <th>valproate_Hill</th>\n",
       "      <th>valproate_50</th>\n",
       "      <th>Y</th>\n",
       "      <th>T</th>\n",
       "      <th>Race_Asian</th>\n",
       "      <th>Race_Black or African American</th>\n",
       "      <th>Race_White or Caucasian</th>\n",
       "    </tr>\n",
       "  </thead>\n",
       "  <tbody>\n",
       "    <tr>\n",
       "      <th>sid3</th>\n",
       "      <td>1</td>\n",
       "      <td>45.91</td>\n",
       "      <td>1</td>\n",
       "      <td>8</td>\n",
       "      <td>0</td>\n",
       "      <td>8</td>\n",
       "      <td>0</td>\n",
       "      <td>15</td>\n",
       "      <td>148</td>\n",
       "      <td>139</td>\n",
       "      <td>...</td>\n",
       "      <td>31.258455</td>\n",
       "      <td>22.956908</td>\n",
       "      <td>28.551287</td>\n",
       "      <td>9.440983</td>\n",
       "      <td>50.069078</td>\n",
       "      <td>1</td>\n",
       "      <td>(0.88, 1)</td>\n",
       "      <td>0</td>\n",
       "      <td>0</td>\n",
       "      <td>1</td>\n",
       "    </tr>\n",
       "    <tr>\n",
       "      <th>sid4</th>\n",
       "      <td>1</td>\n",
       "      <td>53.99</td>\n",
       "      <td>1</td>\n",
       "      <td>4</td>\n",
       "      <td>0</td>\n",
       "      <td>3</td>\n",
       "      <td>1</td>\n",
       "      <td>29</td>\n",
       "      <td>170</td>\n",
       "      <td>50</td>\n",
       "      <td>...</td>\n",
       "      <td>31.258455</td>\n",
       "      <td>23.802689</td>\n",
       "      <td>34.336808</td>\n",
       "      <td>9.440983</td>\n",
       "      <td>50.069078</td>\n",
       "      <td>1</td>\n",
       "      <td>(0.88, 1)</td>\n",
       "      <td>0</td>\n",
       "      <td>0</td>\n",
       "      <td>1</td>\n",
       "    </tr>\n",
       "    <tr>\n",
       "      <th>sid5</th>\n",
       "      <td>1</td>\n",
       "      <td>23.08</td>\n",
       "      <td>0</td>\n",
       "      <td>6</td>\n",
       "      <td>1</td>\n",
       "      <td>3</td>\n",
       "      <td>1</td>\n",
       "      <td>22</td>\n",
       "      <td>126</td>\n",
       "      <td>96</td>\n",
       "      <td>...</td>\n",
       "      <td>31.258455</td>\n",
       "      <td>23.346894</td>\n",
       "      <td>33.508543</td>\n",
       "      <td>9.440983</td>\n",
       "      <td>50.069078</td>\n",
       "      <td>0</td>\n",
       "      <td>(0.12, 1)</td>\n",
       "      <td>0</td>\n",
       "      <td>0</td>\n",
       "      <td>1</td>\n",
       "    </tr>\n",
       "    <tr>\n",
       "      <th>sid7</th>\n",
       "      <td>1</td>\n",
       "      <td>32.11</td>\n",
       "      <td>1</td>\n",
       "      <td>3</td>\n",
       "      <td>1</td>\n",
       "      <td>3</td>\n",
       "      <td>1</td>\n",
       "      <td>16</td>\n",
       "      <td>133</td>\n",
       "      <td>112</td>\n",
       "      <td>...</td>\n",
       "      <td>31.258455</td>\n",
       "      <td>26.847907</td>\n",
       "      <td>29.452211</td>\n",
       "      <td>9.440983</td>\n",
       "      <td>50.069078</td>\n",
       "      <td>1</td>\n",
       "      <td>(0.88, 1)</td>\n",
       "      <td>0</td>\n",
       "      <td>0</td>\n",
       "      <td>0</td>\n",
       "    </tr>\n",
       "    <tr>\n",
       "      <th>sid8</th>\n",
       "      <td>0</td>\n",
       "      <td>67.24</td>\n",
       "      <td>0</td>\n",
       "      <td>12</td>\n",
       "      <td>0</td>\n",
       "      <td>11</td>\n",
       "      <td>0</td>\n",
       "      <td>14</td>\n",
       "      <td>200</td>\n",
       "      <td>147</td>\n",
       "      <td>...</td>\n",
       "      <td>31.258455</td>\n",
       "      <td>26.111897</td>\n",
       "      <td>34.910724</td>\n",
       "      <td>9.440983</td>\n",
       "      <td>50.069078</td>\n",
       "      <td>1</td>\n",
       "      <td>(0.88, 1)</td>\n",
       "      <td>0</td>\n",
       "      <td>0</td>\n",
       "      <td>0</td>\n",
       "    </tr>\n",
       "  </tbody>\n",
       "</table>\n",
       "<p>5 rows × 90 columns</p>\n",
       "</div>"
      ],
      "text/plain": [
       "      Gender    Age  Marrital  iGCS-Total  iGCS = T?  Worst GCS in 1st 24h  \\\n",
       "sid3       1  45.91         1           8          0                     8   \n",
       "sid4       1  53.99         1           4          0                     3   \n",
       "sid5       1  23.08         0           6          1                     3   \n",
       "sid7       1  32.11         1           3          1                     3   \n",
       "sid8       0  67.24         0          12          0                    11   \n",
       "\n",
       "      Worst GCS intub  APACHE II 1st 24h  SBP highest (1st 24h)  \\\n",
       "sid3                0                 15                    148   \n",
       "sid4                1                 29                    170   \n",
       "sid5                1                 22                    126   \n",
       "sid7                1                 16                    133   \n",
       "sid8                0                 14                    200   \n",
       "\n",
       "      SBP lowest (1st 24h)  ...  phenobarbital_50  propofol_Hill  propofol_50  \\\n",
       "sid3                   139  ...         31.258455      22.956908    28.551287   \n",
       "sid4                    50  ...         31.258455      23.802689    34.336808   \n",
       "sid5                    96  ...         31.258455      23.346894    33.508543   \n",
       "sid7                   112  ...         31.258455      26.847907    29.452211   \n",
       "sid8                   147  ...         31.258455      26.111897    34.910724   \n",
       "\n",
       "      valproate_Hill  valproate_50  Y          T  Race_Asian  \\\n",
       "sid3        9.440983     50.069078  1  (0.88, 1)           0   \n",
       "sid4        9.440983     50.069078  1  (0.88, 1)           0   \n",
       "sid5        9.440983     50.069078  0  (0.12, 1)           0   \n",
       "sid7        9.440983     50.069078  1  (0.88, 1)           0   \n",
       "sid8        9.440983     50.069078  1  (0.88, 1)           0   \n",
       "\n",
       "      Race_Black or African American  Race_White or Caucasian  \n",
       "sid3                               0                        1  \n",
       "sid4                               0                        1  \n",
       "sid5                               0                        1  \n",
       "sid7                               0                        0  \n",
       "sid8                               0                        0  \n",
       "\n",
       "[5 rows x 90 columns]"
      ]
     },
     "execution_count": 2,
     "metadata": {},
     "output_type": "execute_result"
    }
   ],
   "source": [
    "data = pd.read_csv(\"/Users/harshparikh/Documents/max_df_coarsen.csv\", index_col=0)\n",
    "\n",
    "data.head()"
   ]
  },
  {
   "cell_type": "code",
   "execution_count": 4,
   "id": "32a57e62-f0a6-460b-81b6-c6eaf82d092b",
   "metadata": {},
   "outputs": [
    {
     "name": "stdout",
     "output_type": "stream",
     "text": [
      "{'(0.12, 0)': 0.8928571428571429, '(0.12, 1)': 0.7702702702702703, '(0.38, 0)': 0.8666666666666667, '(0.38, 1)': 0.8620689655172413, '(0.62, 0)': 1.0, '(0.62, 1)': 0.84, '(0.88, 0)': 0.8333333333333334, '(0.88, 1)': 0.908256880733945}\n",
      "{'(0.12, 0)': 0.8928571428571429, '(0.12, 1)': 0.9324324324324325, '(0.38, 0)': 0.8, '(0.38, 1)': 1.0, '(0.62, 0)': 1.0, '(0.62, 1)': 0.84, '(0.88, 0)': 0.926829268292683, '(0.88, 1)': 0.8990825688073395}\n",
      "{'(0.12, 0)': 0.8275862068965517, '(0.12, 1)': 0.8513513513513513, '(0.38, 0)': 1.0, '(0.38, 1)': 0.6785714285714286, '(0.62, 0)': 0.9090909090909091, '(0.62, 1)': 0.92, '(0.88, 0)': 0.8095238095238095, '(0.88, 1)': 0.8796296296296297}\n"
     ]
    }
   ],
   "source": [
    "lcm = LCM_MF(\n",
    "    outcome=\"Y\", treatment=\"T\", data=data, n_splits=3, n_repeats=1, random_state=0\n",
    ")\n",
    "\n",
    "lcm.fit(model=\"linear\", separate_treatments=True)"
   ]
  },
  {
   "cell_type": "code",
   "execution_count": 69,
   "id": "c4728457-ceef-456d-854b-a9e27263976c",
   "metadata": {},
   "outputs": [],
   "source": [
    "lcm.MG(k=5)\n",
    "lcm.CATE(cate_methods=[\"mean\"], diameter_prune=0.00001)"
   ]
  },
  {
   "cell_type": "code",
   "execution_count": 72,
   "id": "3e32606d-dd5a-4f37-94ae-0d80f8fe0ee5",
   "metadata": {},
   "outputs": [
    {
     "data": {
      "text/plain": [
       "[array([ 0.375     ,  9.91245799,  0.375     ,  0.61076013,  0.375     ,\n",
       "         0.55807425,  0.375     , 10.08288206,  3.86576982,  1.62529256,\n",
       "         1.53787357,  1.04160098,  2.28789422,  5.30760654,  0.375     ,\n",
       "         0.375     ,  0.375     ,  0.375     ,  0.375     ,  0.375     ,\n",
       "         0.375     ,  0.375     ,  0.375     ,  0.375     ,  0.375     ,\n",
       "         0.375     ,  0.375     ,  0.375     ,  0.375     ,  0.375     ,\n",
       "         0.375     ,  0.375     ,  0.375     ,  0.375     ,  0.375     ,\n",
       "         0.375     ,  0.375     ,  0.82006959,  0.375     ,  0.375     ,\n",
       "         0.375     ,  0.375     ,  4.60088711,  1.25893638,  0.375     ,\n",
       "         0.375     ,  0.375     ,  0.375     ,  0.375     ,  0.375     ,\n",
       "         0.375     ,  0.375     ,  0.375     ,  0.375     ,  0.375     ,\n",
       "         0.375     ,  0.375     ,  0.375     ,  0.375     ,  0.375     ,\n",
       "         0.375     ,  0.375     ,  0.375     ,  0.375     ,  0.375     ,\n",
       "         0.375     ,  0.375     ,  0.375     ,  0.375     ,  0.375     ,\n",
       "         0.375     ,  0.38656508,  0.375     ,  0.80296948,  7.5509253 ,\n",
       "         0.84998075,  0.92142722,  0.375     ,  2.43677653,  0.375     ,\n",
       "         0.76374923,  1.37629106,  2.07583014,  0.49442766,  2.83095235,\n",
       "         0.375     ,  0.375     ,  0.375     ]),\n",
       " array([ 0.38315885,  9.60161574,  0.42458733,  2.08537133,  0.38987563,\n",
       "         3.17281189,  0.41726436, 13.16749049,  1.77070522,  1.10306824,\n",
       "         4.69468317,  1.67922218,  2.638211  ,  2.50092943,  0.40691682,\n",
       "         0.38200878,  0.375     ,  0.38639916,  0.40377295,  0.375     ,\n",
       "         0.3875346 ,  0.375     ,  0.41607975,  0.39445403,  0.375     ,\n",
       "         0.39012243,  0.45453346,  0.39930348,  0.42161995,  0.3999934 ,\n",
       "         0.375     ,  0.375     ,  0.375     ,  0.375     ,  0.375     ,\n",
       "         0.39217183,  0.40100371,  1.10148778,  0.48647234,  0.375     ,\n",
       "         0.38905732,  0.49206441,  4.95562825,  1.96820394,  0.40071538,\n",
       "         0.375     ,  0.45474341,  0.375     ,  0.42442734,  0.37750412,\n",
       "         0.39012107,  0.375     ,  0.38997934,  0.37944697,  0.375     ,\n",
       "         0.375     ,  0.375     ,  0.45603536,  0.40505595,  0.375     ,\n",
       "         0.45639932,  0.42257784,  0.40704064,  0.41040295,  0.375     ,\n",
       "         0.375     ,  0.45692978,  0.375     ,  0.375     ,  0.375     ,\n",
       "         0.375     ,  0.8148451 ,  0.375     ,  1.08262085,  2.56926183,\n",
       "         0.44148488,  0.49352357,  0.375     ,  0.98046988,  1.35039753,\n",
       "         0.68109652,  0.5995863 ,  1.67533555,  0.49306682,  1.42910847,\n",
       "         0.375     ,  0.375     ,  0.375     ]),\n",
       " array([0.74506789, 7.36593722, 0.70051802, 0.76122468, 0.63078077,\n",
       "        1.9278104 , 0.62961123, 4.83918819, 1.72880499, 1.31690891,\n",
       "        1.07150443, 3.60040917, 1.09875182, 1.2576893 , 0.63727394,\n",
       "        0.70005502, 0.72168398, 0.6951077 , 0.65321066, 0.64030695,\n",
       "        0.64261921, 0.63138578, 0.70402572, 0.65746958, 0.62780527,\n",
       "        0.65410537, 0.63335982, 0.64648476, 0.65320884, 0.68509965,\n",
       "        0.68943032, 0.63353089, 0.62505275, 0.72744847, 0.625     ,\n",
       "        0.625     , 0.62812577, 1.21467221, 0.62976758, 0.69595454,\n",
       "        0.6284559 , 0.63318494, 1.44475163, 2.53409184, 0.70588951,\n",
       "        0.64164071, 0.625     , 0.70192497, 0.64634164, 0.70234522,\n",
       "        0.62510529, 0.625     , 0.79771326, 0.66970645, 0.625     ,\n",
       "        0.65335406, 0.62976758, 0.625     , 0.62780527, 0.625     ,\n",
       "        0.65721872, 0.65720243, 0.62812577, 0.625     , 0.625     ,\n",
       "        0.6602227 , 0.6280122 , 0.625     , 0.64452768, 0.62984153,\n",
       "        0.64617043, 0.77696793, 0.63845113, 1.33969779, 2.06641769,\n",
       "        0.63051381, 0.64592643, 0.625     , 1.73657904, 1.64950365,\n",
       "        1.84819737, 1.46107414, 1.50225069, 0.89236882, 2.14851064,\n",
       "        0.6280122 , 0.62627541, 0.63946176])]"
      ]
     },
     "execution_count": 72,
     "metadata": {},
     "output_type": "execute_result"
    }
   ],
   "source": [
    "lcm.M_list"
   ]
  },
  {
   "cell_type": "code",
   "execution_count": 71,
   "id": "bd4117e2-13cb-44a2-be1e-c83e982f33ff",
   "metadata": {},
   "outputs": [
    {
     "data": {
      "text/plain": [
       "<AxesSubplot:xlabel='index'>"
      ]
     },
     "execution_count": 71,
     "metadata": {},
     "output_type": "execute_result"
    },
    {
     "data": {
      "image/png": "[encoded data removed]",
      "text/plain": [
       "<Figure size 432x288 with 1 Axes>"
      ]
     },
     "metadata": {
      "needs_background": "light"
     },
     "output_type": "display_data"
    }
   ],
   "source": [
    "sns.pointplot(\n",
    "    data=lcm.cate_df[\n",
    "        [\"Y(0.12, 0)_mean\", \"Y(0.38, 0)_mean\", \"Y(0.62, 0)_mean\", \"Y(0.88, 0)_mean\"]\n",
    "    ]\n",
    "    .T.reset_index()\n",
    "    .groupby(by=\"index\")\n",
    "    .mean()\n",
    "    .T\n",
    ")"
   ]
  },
  {
   "cell_type": "code",
   "execution_count": null,
   "id": "46554de1-2388-4d3d-a002-8cb376488cd0",
   "metadata": {},
   "outputs": [],
   "source": [
    "treatment_arms = np.unique(data[\"T\"])\n",
    "data_T = {}\n",
    "for T in treatment_arms:\n",
    "    data_T[T] = data.loc[data[\"T\"] == T]"
   ]
  },
  {
   "cell_type": "code",
   "execution_count": null,
   "id": "88c982e4-f079-4f75-9ec5-e196993fd50c",
   "metadata": {},
   "outputs": [],
   "source": [
    "treatment_arms"
   ]
  },
  {
   "cell_type": "code",
   "execution_count": null,
   "id": "f6ee8c79-49a9-4d9a-b5cd-f445d28ef9e7",
   "metadata": {},
   "outputs": [],
   "source": [
    "X_train, X_test, y_train, y_test = train_test_split(\n",
    "    data.drop(columns=[\"T\", \"Y\"]), data[\"Y\"], stratify=data[\"T\"]\n",
    ")"
   ]
  },
  {
   "cell_type": "code",
   "execution_count": null,
   "id": "2634918a-1270-4c55-a7fa-1041f5315e5e",
   "metadata": {},
   "outputs": [],
   "source": [
    "m = en.GradientBoostingClassifier().fit(X_train, y_train)"
   ]
  },
  {
   "cell_type": "code",
   "execution_count": null,
   "id": "2020fc42-6bb2-4bca-893f-e499c657de7e",
   "metadata": {},
   "outputs": [],
   "source": [
    "accuracy_score(y_test, m.predict(X_test))"
   ]
  },
  {
   "cell_type": "code",
   "execution_count": null,
   "id": "b6e03b62-db1c-4901-ad44-93dbcbfd18a0",
   "metadata": {},
   "outputs": [],
   "source": [
    "m.score(X_test, y_test)"
   ]
  },
  {
   "cell_type": "code",
   "execution_count": null,
   "id": "d2de7203-67ee-4221-9bbe-9d828aa3083e",
   "metadata": {},
   "outputs": [],
   "source": [
    "df_new = data.copy(deep=True)"
   ]
  },
  {
   "cell_type": "code",
   "execution_count": null,
   "id": "2d93e958-b308-4f04-a7a5-0ebaf66bdca8",
   "metadata": {},
   "outputs": [],
   "source": [
    "treatment_map = {\n",
    "    \"(0.12, 0)\": \"(0, 0)\",\n",
    "    \"(0.12, 1)\": \"(0, 1)\",\n",
    "    \"(0.38, 0)\": \"(0, 0)\",\n",
    "    \"(0.38, 1)\": \"(0, 1)\",\n",
    "    \"(0.62, 0)\": \"(1, 0)\",\n",
    "    \"(0.62, 1)\": \"(1, 1)\",\n",
    "    \"(0.88, 0)\": \"(1, 0)\",\n",
    "    \"(0.88, 1)\": \"(1, 1)\",\n",
    "}"
   ]
  },
  {
   "cell_type": "code",
   "execution_count": null,
   "id": "5719f157-fc9a-42a2-b93c-8eaf22b75ff9",
   "metadata": {},
   "outputs": [],
   "source": [
    "df_new[\"T\"] = df_new[\"T\"].apply(lambda x: treatment_map[x])"
   ]
  },
  {
   "cell_type": "code",
   "execution_count": null,
   "id": "85287a56-78a4-4354-b79c-dfe55a26c7d9",
   "metadata": {},
   "outputs": [],
   "source": [
    "df_new[\"T\"]"
   ]
  },
  {
   "cell_type": "code",
   "execution_count": null,
   "id": "b2a92c2c-f67b-4927-a8e3-b6b2bd293dfd",
   "metadata": {},
   "outputs": [],
   "source": [
    "df_new = df_new.loc[(df_new[\"T\"] == \"(0, 0)\") | (df_new[\"T\"] == \"(1, 0)\")]"
   ]
  },
  {
   "cell_type": "code",
   "execution_count": null,
   "id": "077bd631-1acd-4ecb-9798-bdd25c5b7ff4",
   "metadata": {},
   "outputs": [],
   "source": [
    "df_new[\"T\"] = df_new.apply(lambda x: int(x[\"T\"][1]), axis=1)"
   ]
  },
  {
   "cell_type": "code",
   "execution_count": null,
   "id": "5c08dd72-ec72-470b-b7c5-a7e046efda16",
   "metadata": {},
   "outputs": [],
   "source": [
    "lcm = LCM_MF(\"Y\", \"T\", data=df_new, n_splits=3, n_repeats=1)"
   ]
  },
  {
   "cell_type": "code",
   "execution_count": null,
   "id": "c894cc1c-c8e8-44e3-b1f0-40cbbbe4699c",
   "metadata": {},
   "outputs": [],
   "source": [
    "lcm.fit(method=\"linear\")"
   ]
  },
  {
   "cell_type": "code",
   "execution_count": null,
   "id": "772e5fab-3967-4b1b-bd91-8176c35b963c",
   "metadata": {},
   "outputs": [],
   "source": [
    "lcm.MG(k=5)"
   ]
  },
  {
   "cell_type": "code",
   "execution_count": null,
   "id": "e6383616-76ea-4931-96d1-d8fbad995cca",
   "metadata": {},
   "outputs": [],
   "source": [
    "lcm.CATE(cate_methods=[[\"mean\", False]])"
   ]
  },
  {
   "cell_type": "code",
   "execution_count": null,
   "id": "0e00bb01-57a4-45fb-9f58-3c635f424a39",
   "metadata": {},
   "outputs": [],
   "source": [
    "lcm.cate_df"
   ]
  },
  {
   "cell_type": "code",
   "execution_count": null,
   "id": "1af44365-ed05-4be8-abf1-3369dcebba53",
   "metadata": {},
   "outputs": [],
   "source": [
    "lcm.cate_df[\"avg.CATE_mean\"].hist()"
   ]
  },
  {
   "cell_type": "code",
   "execution_count": null,
   "id": "16c6bfdb-c405-4c85-ac91-4812881428ba",
   "metadata": {},
   "outputs": [],
   "source": []
  }
 ],
 "metadata": {
  "kernelspec": {
   "display_name": "Python 3 (ipykernel)",
   "language": "python",
   "name": "python3"
  },
  "language_info": {
   "codemirror_mode": {
    "name": "ipython",
    "version": 3
   },
   "file_extension": ".py",
   "mimetype": "text/x-python",
   "name": "python",
   "nbconvert_exporter": "python",
   "pygments_lexer": "ipython3",
   "version": "3.9.7"
  }
 },
 "nbformat": 4,
 "nbformat_minor": 5
}
